{
 "cells": [
  {
   "cell_type": "code",
   "execution_count": 2,
   "metadata": {},
   "outputs": [
    {
     "name": "stderr",
     "output_type": "stream",
     "text": [
      "[nltk_data] Downloading package averaged_perceptron_tagger to\n",
      "[nltk_data]     /Users/sanchitrana/nltk_data...\n",
      "[nltk_data]   Unzipping taggers/averaged_perceptron_tagger.zip.\n"
     ]
    },
    {
     "data": {
      "text/plain": [
       "True"
      ]
     },
     "execution_count": 2,
     "metadata": {},
     "output_type": "execute_result"
    }
   ],
   "source": [
    "import nltk\n",
    "nltk.download('averaged_perceptron_tagger')\n",
    "from nltk import pos_tag\n",
    "from nltk import RegexpParser\n",
    "from nltk.tokenize import word_tokenize\n",
    "\n",
    "text = \"Jujutsu Kaisen Gripping supernatural battles, compelling characters, and intense animation. A must-watch for anime enthusiasts seeking thrilling action.\"\n",
    "tokens = word_tokenize(text)\n",
    "#tokens_tag = pos_tag(tokens)\n",
    "#tokens_tag"
   ]
  },
  {
   "cell_type": "code",
   "execution_count": 3,
   "metadata": {},
   "outputs": [
    {
     "data": {
      "text/plain": [
       "[('Jujutsu', 'NNP'),\n",
       " ('Kaisen', 'NNP'),\n",
       " ('Gripping', 'NNP'),\n",
       " ('supernatural', 'JJ'),\n",
       " ('battles', 'NNS'),\n",
       " (',', ','),\n",
       " ('compelling', 'VBG'),\n",
       " ('characters', 'NNS'),\n",
       " (',', ','),\n",
       " ('and', 'CC'),\n",
       " ('intense', 'JJ'),\n",
       " ('animation', 'NN'),\n",
       " ('.', '.'),\n",
       " ('A', 'DT'),\n",
       " ('must-watch', 'NN'),\n",
       " ('for', 'IN'),\n",
       " ('anime', 'NN'),\n",
       " ('enthusiasts', 'NNS'),\n",
       " ('seeking', 'VBG'),\n",
       " ('thrilling', 'VBG'),\n",
       " ('action', 'NN'),\n",
       " ('.', '.')]"
      ]
     },
     "execution_count": 3,
     "metadata": {},
     "output_type": "execute_result"
    }
   ],
   "source": [
    "from nltk import pos_tag\n",
    "from nltk import RegexpParser\n",
    "from nltk.tokenize import word_tokenize\n",
    "\n",
    "text = \"Jujutsu Kaisen Gripping supernatural battles, compelling characters, and intense animation. A must-watch for anime enthusiasts seeking thrilling action.\"\n",
    "tokens = word_tokenize(text)\n",
    "tokens_tag = pos_tag(tokens)\n",
    "tokens_tag"
   ]
  },
  {
   "cell_type": "code",
   "execution_count": 4,
   "metadata": {},
   "outputs": [],
   "source": [
    "patterns= \"NP: {<DT>?<JJ>*<NN>}\"\n",
    "chunker = RegexpParser(patterns)\n",
    "chunks = chunker.parse(tokens_tag)"
   ]
  },
  {
   "cell_type": "code",
   "execution_count": 5,
   "metadata": {},
   "outputs": [
    {
     "data": {
      "text/plain": [
       "[Tree('S', [('Jujutsu', 'NNP'), ('Kaisen', 'NNP'), ('Gripping', 'NNP'), ('supernatural', 'JJ'), ('battles', 'NNS'), (',', ','), ('compelling', 'VBG'), ('characters', 'NNS'), (',', ','), ('and', 'CC'), Tree('NP', [('intense', 'JJ'), ('animation', 'NN')]), ('.', '.'), Tree('NP', [('A', 'DT'), ('must-watch', 'NN')]), ('for', 'IN'), Tree('NP', [('anime', 'NN')]), ('enthusiasts', 'NNS'), ('seeking', 'VBG'), ('thrilling', 'VBG'), Tree('NP', [('action', 'NN')]), ('.', '.')]),\n",
       " Tree('NP', [('intense', 'JJ'), ('animation', 'NN')]),\n",
       " Tree('NP', [('A', 'DT'), ('must-watch', 'NN')]),\n",
       " Tree('NP', [('anime', 'NN')]),\n",
       " Tree('NP', [('action', 'NN')])]"
      ]
     },
     "execution_count": 5,
     "metadata": {},
     "output_type": "execute_result"
    }
   ],
   "source": [
    "list(chunks.subtrees())\n"
   ]
  },
  {
   "cell_type": "code",
   "execution_count": 6,
   "metadata": {},
   "outputs": [
    {
     "data": {
      "text/plain": [
       "[[('intense', 'JJ'), ('animation', 'NN')],\n",
       " [('A', 'DT'), ('must-watch', 'NN')],\n",
       " [('anime', 'NN')],\n",
       " [('action', 'NN')]]"
      ]
     },
     "execution_count": 6,
     "metadata": {},
     "output_type": "execute_result"
    }
   ],
   "source": [
    "noun_phrases = [subtree.leaves() for subtree in chunks.subtrees() if subtree.label() == 'NP']\n",
    "noun_phrases"
   ]
  }
 ],
 "metadata": {
  "kernelspec": {
   "display_name": "Python 3",
   "language": "python",
   "name": "python3"
  },
  "language_info": {
   "codemirror_mode": {
    "name": "ipython",
    "version": 3
   },
   "file_extension": ".py",
   "mimetype": "text/x-python",
   "name": "python",
   "nbconvert_exporter": "python",
   "pygments_lexer": "ipython3",
   "version": "3.9.6"
  }
 },
 "nbformat": 4,
 "nbformat_minor": 2
}
