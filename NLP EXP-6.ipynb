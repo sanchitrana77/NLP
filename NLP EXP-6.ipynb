{
 "cells": [
  {
   "cell_type": "code",
   "execution_count": 1,
   "id": "ee317ae8",
   "metadata": {},
   "outputs": [
    {
     "name": "stdout",
     "output_type": "stream",
     "text": [
      "Requirement already satisfied: nltk in c:\\users\\alava\\anaconda3\\lib\\site-packages (3.8.1)\n",
      "Requirement already satisfied: click in c:\\users\\alava\\anaconda3\\lib\\site-packages (from nltk) (8.0.4)\n",
      "Requirement already satisfied: joblib in c:\\users\\alava\\anaconda3\\lib\\site-packages (from nltk) (1.2.0)\n",
      "Requirement already satisfied: regex>=2021.8.3 in c:\\users\\alava\\anaconda3\\lib\\site-packages (from nltk) (2022.7.9)\n",
      "Requirement already satisfied: tqdm in c:\\users\\alava\\anaconda3\\lib\\site-packages (from nltk) (4.65.0)\n",
      "Requirement already satisfied: colorama in c:\\users\\alava\\anaconda3\\lib\\site-packages (from click->nltk) (0.4.6)\n",
      "Collecting emoji\n",
      "  Obtaining dependency information for emoji from https://files.pythonhosted.org/packages/55/c1/1d97d960831e23a3dd8608b0b489eb4866144445475277a443efb0379609/emoji-2.11.0-py2.py3-none-any.whl.metadata\n",
      "  Downloading emoji-2.11.0-py2.py3-none-any.whl.metadata (5.3 kB)\n",
      "Downloading emoji-2.11.0-py2.py3-none-any.whl (433 kB)\n",
      "   ---------------------------------------- 0.0/433.8 kB ? eta -:--:--\n",
      "   ---------------------------------------- 0.0/433.8 kB ? eta -:--:--\n",
      "   ---------------------------------------- 0.0/433.8 kB ? eta -:--:--\n",
      "    --------------------------------------- 10.2/433.8 kB ? eta -:--:--\n",
      "    --------------------------------------- 10.2/433.8 kB ? eta -:--:--\n",
      "   --- ----------------------------------- 41.0/433.8 kB 245.8 kB/s eta 0:00:02\n",
      "   --- ----------------------------------- 41.0/433.8 kB 245.8 kB/s eta 0:00:02\n",
      "   ------ -------------------------------- 71.7/433.8 kB 302.7 kB/s eta 0:00:02\n",
      "   ------ -------------------------------- 71.7/433.8 kB 302.7 kB/s eta 0:00:02\n",
      "   ------------- ------------------------ 153.6/433.8 kB 458.0 kB/s eta 0:00:01\n",
      "   ---------------------- --------------- 256.0/433.8 kB 682.7 kB/s eta 0:00:01\n",
      "   ------------------------------ ------- 348.2/433.8 kB 938.7 kB/s eta 0:00:01\n",
      "   -------------------------------------- 433.8/433.8 kB 967.0 kB/s eta 0:00:00\n",
      "Installing collected packages: emoji\n",
      "Successfully installed emoji-2.11.0\n"
     ]
    }
   ],
   "source": [
    "!pip install nltk\n",
    "!pip install emoji\n",
    "import nltk\n",
    "import emoji"
   ]
  },
  {
   "cell_type": "code",
   "execution_count": 2,
   "id": "32164dfe",
   "metadata": {},
   "outputs": [
    {
     "name": "stdout",
     "output_type": "stream",
     "text": [
      "2.11.0\n"
     ]
    }
   ],
   "source": [
    "print(emoji.__version__)"
   ]
  },
  {
   "cell_type": "code",
   "execution_count": 3,
   "id": "1c2728f1",
   "metadata": {},
   "outputs": [
    {
     "name": "stdout",
     "output_type": "stream",
     "text": [
      "Requirement already satisfied: emoji in c:\\users\\alava\\anaconda3\\lib\\site-packages (2.11.0)\n",
      "Note: you may need to restart the kernel to use updated packages.\n"
     ]
    }
   ],
   "source": [
    "pip install --upgrade emoji"
   ]
  },
  {
   "cell_type": "code",
   "execution_count": 4,
   "id": "8d1dfe0b",
   "metadata": {},
   "outputs": [],
   "source": [
    "def get_sentiment(sentence):\n",
    "    positive_words = [\"good\", \"great\", \"excellent\", \"awesome\", \"fantastic\",\"stunning\",\"charismatic\",\"beatifully\",]\n",
    "    negative_words = [\"bad\", \"poor\", \"terrible\", \"awful\", \"horrible\",\"inconsistent\",\"forced\"]\n",
    "    \n",
    "    positive_emojis = [\"😊\", \"😁\", \"👍\", \"🌟\", \"🎉\",\"👏\"]\n",
    "    negative_emojis = [\"😅\", \"😠\", \"👎\", \"💔\", \"😕\",\"🤔\"]\n",
    "    \n",
    "    tokens = sentence.lower().split()\n",
    "\n",
    "    positive_count = sum(word in positive_words or word in positive_emojis for word in tokens)\n",
    "    negative_count = sum(word in negative_words or word in negative_emojis for word in tokens)\n",
    "    \n",
    "    if positive_count > negative_count:\n",
    "        return \"Positive\"\n",
    "    elif negative_count > positive_count:\n",
    "        return \"Negative\"\n",
    "    else:\n",
    "        return \"Neutral\"\n",
    "    "
   ]
  },
  {
   "cell_type": "code",
   "execution_count": 5,
   "id": "440ac924",
   "metadata": {},
   "outputs": [],
   "source": [
    "def analyze_sentiment_from_file(file_path):\n",
    "    try:\n",
    "        with open(file_path, 'r', encoding='utf-8') as file:\n",
    "            content = file.read()\n",
    "            sentiment = get_sentiment(content)\n",
    "            return sentiment\n",
    "    except FileNotFoundError:\n",
    "        return \"File not found\"\n",
    "    except Exception as e:\n",
    "        return f\"An error occurred: {str(e)}\""
   ]
  },
  {
   "cell_type": "code",
   "execution_count": 6,
   "id": "65c3ba4a",
   "metadata": {},
   "outputs": [],
   "source": [
    "def main():\n",
    "    print(\"Movie Review Sentiment Analysis\")\n",
    "    print(\"-----------------------------\")\n",
    "    \n",
    "    file_path = \"/Users/rashazrafeeque/Desktop/text/Dunki.txt\"\n",
    "    sentiment = analyze_sentiment_from_file(file_path)\n",
    "    print(f\"\\nSentiment: {sentiment}\")\n",
    "    "
   ]
  },
  {
   "cell_type": "code",
   "execution_count": 7,
   "id": "81c27671",
   "metadata": {},
   "outputs": [
    {
     "name": "stdout",
     "output_type": "stream",
     "text": [
      "Movie Review Sentiment Analysis\n",
      "-----------------------------\n",
      "\n",
      "Sentiment: File not found\n"
     ]
    }
   ],
   "source": [
    "if __name__ == \"__main__\":\n",
    "    main()\n",
    "    "
   ]
  },
  {
   "cell_type": "code",
   "execution_count": null,
   "id": "db8cab64",
   "metadata": {},
   "outputs": [],
   "source": []
  }
 ],
 "metadata": {
  "kernelspec": {
   "display_name": "Python 3 (ipykernel)",
   "language": "python",
   "name": "python3"
  },
  "language_info": {
   "codemirror_mode": {
    "name": "ipython",
    "version": 3
   },
   "file_extension": ".py",
   "mimetype": "text/x-python",
   "name": "python",
   "nbconvert_exporter": "python",
   "pygments_lexer": "ipython3",
   "version": "3.11.5"
  }
 },
 "nbformat": 4,
 "nbformat_minor": 5
}
