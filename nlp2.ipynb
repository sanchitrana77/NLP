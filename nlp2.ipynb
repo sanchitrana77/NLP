{
 "cells": [
  {
   "cell_type": "code",
   "execution_count": 1,
   "metadata": {},
   "outputs": [
    {
     "data": {
      "text/plain": [
       "['sanchit', 'sanchit', 'sanchit', 'sanchit', 'sanchit']"
      ]
     },
     "execution_count": 1,
     "metadata": {},
     "output_type": "execute_result"
    }
   ],
   "source": [
    "import nltk\n",
    "from nltk.stem import PorterStemmer\n",
    "\n",
    "ps = PorterStemmer()\n",
    "example_words = [\"Sanchit\",\"Sanchit\",\"Sanchit\",\"Sanchit\",\"Sanchit\"]\n",
    "stemmed_words = [ps.stem(word) for word in example_words]\n",
    "stemmed_words"
   ]
  },
  {
   "cell_type": "code",
   "execution_count": 3,
   "metadata": {},
   "outputs": [
    {
     "data": {
      "text/plain": [
       "['jujutsu',\n",
       " 'kaisen',\n",
       " 'grip',\n",
       " 'supernatur',\n",
       " 'battl',\n",
       " ',',\n",
       " 'compel',\n",
       " 'charact',\n",
       " ',',\n",
       " 'and',\n",
       " 'intens',\n",
       " 'anim',\n",
       " '.',\n",
       " 'a',\n",
       " 'must-watch',\n",
       " 'for',\n",
       " 'anim',\n",
       " 'enthusiast',\n",
       " 'seek',\n",
       " 'thrill',\n",
       " 'action',\n",
       " '.']"
      ]
     },
     "execution_count": 3,
     "metadata": {},
     "output_type": "execute_result"
    }
   ],
   "source": [
    "from nltk.tokenize import word_tokenize\n",
    "text = \"Jujutsu Kaisen Gripping supernatural battles, compelling characters, and intense animation. A must-watch for anime enthusiasts seeking thrilling action.\"\n",
    "tokens = word_tokenize(text)\n",
    "stemmed_tokens = [ps.stem(token) for token in tokens]\n",
    "stemmed_tokens"
   ]
  },
  {
   "cell_type": "code",
   "execution_count": 8,
   "metadata": {},
   "outputs": [
    {
     "name": "stderr",
     "output_type": "stream",
     "text": [
      "[nltk_data] Downloading package wordnet to\n",
      "[nltk_data]     /Users/sanchitrana/nltk_data...\n"
     ]
    },
    {
     "data": {
      "text/plain": [
       "True"
      ]
     },
     "execution_count": 8,
     "metadata": {},
     "output_type": "execute_result"
    }
   ],
   "source": [
    "import nltk\n",
    "nltk.download('wordnet')"
   ]
  },
  {
   "cell_type": "code",
   "execution_count": null,
   "metadata": {},
   "outputs": [],
   "source": []
  },
  {
   "cell_type": "code",
   "execution_count": 9,
   "metadata": {},
   "outputs": [
    {
     "data": {
      "text/plain": [
       "['Sanchit', 'Sanchit', 'Sanchit', 'Sanchit', 'Sanchit']"
      ]
     },
     "execution_count": 9,
     "metadata": {},
     "output_type": "execute_result"
    }
   ],
   "source": [
    "from nltk.stem import WordNetLemmatizer\n",
    "wnl = WordNetLemmatizer()\n",
    "\n",
    "example_words = [\"Sanchit\",\"Sanchit\",\"Sanchit\",\"Sanchit\",\"Sanchit\"]\n",
    "lemma_words = [wnl.lemmatize(word, pos = 'v') for word in example_words]\n",
    "lemma_words"
   ]
  },
  {
   "cell_type": "code",
   "execution_count": 10,
   "metadata": {},
   "outputs": [
    {
     "data": {
      "text/plain": [
       "['Jujutsu',\n",
       " 'Kaisen',\n",
       " 'Gripping',\n",
       " 'supernatural',\n",
       " 'battle',\n",
       " ',',\n",
       " 'compelling',\n",
       " 'character',\n",
       " ',',\n",
       " 'and',\n",
       " 'intense',\n",
       " 'animation',\n",
       " '.',\n",
       " 'A',\n",
       " 'must-watch',\n",
       " 'for',\n",
       " 'anime',\n",
       " 'enthusiast',\n",
       " 'seeking',\n",
       " 'thrilling',\n",
       " 'action',\n",
       " '.']"
      ]
     },
     "execution_count": 10,
     "metadata": {},
     "output_type": "execute_result"
    }
   ],
   "source": [
    "lemma_tokens = [wnl.lemmatize(token) for token in tokens]\n",
    "lemma_tokens"
   ]
  }
 ],
 "metadata": {
  "kernelspec": {
   "display_name": "venv",
   "language": "python",
   "name": "python3"
  },
  "language_info": {
   "codemirror_mode": {
    "name": "ipython",
    "version": 3
   },
   "file_extension": ".py",
   "mimetype": "text/x-python",
   "name": "python",
   "nbconvert_exporter": "python",
   "pygments_lexer": "ipython3",
   "version": "3.9.6"
  }
 },
 "nbformat": 4,
 "nbformat_minor": 2
}
