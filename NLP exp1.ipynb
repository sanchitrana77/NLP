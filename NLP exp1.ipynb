{
 "cells": [
  {
   "cell_type": "code",
   "execution_count": 1,
   "metadata": {},
   "outputs": [
    {
     "data": {
      "text/plain": [
       "['Embrace',\n",
       " 'the',\n",
       " 'dance',\n",
       " 'of',\n",
       " 'uncertainty',\n",
       " ',',\n",
       " 'for',\n",
       " 'within',\n",
       " 'its',\n",
       " 'rhythm',\n",
       " ',',\n",
       " 'we',\n",
       " 'find',\n",
       " 'the',\n",
       " 'notes',\n",
       " 'of',\n",
       " 'serendipity',\n",
       " 'orchestrating',\n",
       " 'the',\n",
       " 'symphony',\n",
       " 'of',\n",
       " 'life',\n",
       " \"'s\",\n",
       " 'unpredictable',\n",
       " 'beauty',\n",
       " '.']"
      ]
     },
     "execution_count": 1,
     "metadata": {},
     "output_type": "execute_result"
    }
   ],
   "source": [
    "from nltk.tokenize import word_tokenize, sent_tokenize, RegexpTokenizer\n",
    "text = \"Embrace the dance of uncertainty, for within its rhythm, we find the notes of serendipity orchestrating the symphony of life's unpredictable beauty.\"\n",
    "word_tokenize(text)"
   ]
  },
  {
   "cell_type": "code",
   "execution_count": 2,
   "metadata": {},
   "outputs": [
    {
     "data": {
      "text/plain": [
       "['Kratos\\' deep voice cut through the tension as he addressed Atreus, \"Patience, boy.',\n",
       " 'The path we tread is fraught with challenges.\"',\n",
       " 'Atreus, his youthful curiosity undeterred, questioned, \"But why do we have to face all these gods, Father?\"',\n",
       " 'Kratos, with a heavy sigh, revealed, \"Because our past is intertwined with theirs.',\n",
       " 'We carry the weight of our choices, and now we must confront the consequences.\"',\n",
       " 'As they faced mythical creatures and unravelled the mysteries of their own existence, the dialogues between father and son became a narrative thread woven with wisdom, defiance, and the unspoken bond that bound them in their quest through the realms.']"
      ]
     },
     "execution_count": 2,
     "metadata": {},
     "output_type": "execute_result"
    }
   ],
   "source": [
    "text = \"\"\"Kratos' deep voice cut through the tension as he addressed Atreus, \"Patience, boy. The path we tread is fraught with challenges.\" Atreus, his youthful curiosity undeterred, questioned, \"But why do we have to face all these gods, Father?\"\n",
    "Kratos, with a heavy sigh, revealed, \"Because our past is intertwined with theirs. We carry the weight of our choices, and now we must confront the consequences.\" As they faced mythical creatures and unravelled the mysteries of their own existence, the dialogues between father and son became a narrative thread woven with wisdom, defiance, and the unspoken bond that bound them in their quest through the realms.\"\"\"\n",
    "\n",
    "sent_tokenize(text)"
   ]
  },
  {
   "cell_type": "code",
   "execution_count": 3,
   "metadata": {},
   "outputs": [
    {
     "data": {
      "text/plain": [
       "['Kratos',\n",
       " 'Atreus',\n",
       " 'Patience',\n",
       " 'The',\n",
       " 'Atreus',\n",
       " 'But',\n",
       " 'Father',\n",
       " 'Kratos',\n",
       " 'Because',\n",
       " 'We',\n",
       " 'As']"
      ]
     },
     "execution_count": 3,
     "metadata": {},
     "output_type": "execute_result"
    }
   ],
   "source": [
    "cap_tokenizer = RegexpTokenizer(r'[A-Z]\\w+')\n",
    "cap_tokenizer.tokenize(text)"
   ]
  },
  {
   "cell_type": "code",
   "execution_count": 4,
   "metadata": {},
   "outputs": [
    {
     "data": {
      "text/plain": [
       "['Kratos\\' deep voice cut through the tension as he addressed Atreus, \"Patience, boy. The path we tread is fraught with challenges.\" Atreus, his youthful curiosity undeterred, questioned, \"But why do we have to face all these gods, Father',\n",
       " '\"\\nKratos, with a heavy sigh, revealed, \"Because our past is intertwined with theirs. We carry the weight of our choices, and now we must confront the consequences.\" As they faced mythical creatures and unravelled the mysteries of their own existence, the dialogues between father and son became a narrative thread woven with wisdom, defiance, and the unspoken bond that bound them in their quest through the realms.']"
      ]
     },
     "execution_count": 4,
     "metadata": {},
     "output_type": "execute_result"
    }
   ],
   "source": [
    "ques_tokenizer = RegexpTokenizer('\\?', gaps = True)\n",
    "ques_tokenizer.tokenize(text)"
   ]
  }
 ],
 "metadata": {
  "kernelspec": {
   "display_name": "venv",
   "language": "python",
   "name": "python3"
  },
  "language_info": {
   "codemirror_mode": {
    "name": "ipython",
    "version": 3
   },
   "file_extension": ".py",
   "mimetype": "text/x-python",
   "name": "python",
   "nbconvert_exporter": "python",
   "pygments_lexer": "ipython3",
   "version": "3.11.4"
  }
 },
 "nbformat": 4,
 "nbformat_minor": 2
}
